{
  "nbformat": 4,
  "nbformat_minor": 0,
  "metadata": {
    "colab": {
      "provenance": [],
      "authorship_tag": "ABX9TyNgF7E7tl3BHhiubrIi7syb",
      "include_colab_link": true
    },
    "kernelspec": {
      "name": "python3",
      "display_name": "Python 3"
    },
    "language_info": {
      "name": "python"
    }
  },
  "cells": [
    {
      "cell_type": "markdown",
      "metadata": {
        "id": "view-in-github",
        "colab_type": "text"
      },
      "source": [
        "<a href=\"https://colab.research.google.com/github/ZeiGorgeous5/BSIS2-DV-LAB6-ALOMISEN-/blob/main/Untitled6.ipynb\" target=\"_parent\"><img src=\"https://colab.research.google.com/assets/colab-badge.svg\" alt=\"Open In Colab\"/></a>"
      ]
    },
    {
      "cell_type": "code",
      "execution_count": 1,
      "metadata": {
        "colab": {
          "base_uri": "https://localhost:8080/"
        },
        "id": "v44tNPHelGPz",
        "outputId": "b9c2c5e9-cf09-444f-d7fe-be676fe646d3"
      },
      "outputs": [
        {
          "output_type": "stream",
          "name": "stdout",
          "text": [
            "[3, 7, 4, 2]\n",
            "[3, True, 'ZEI', 3.0]\n",
            "[3, 7, 4, 2]\n",
            "[3, 7, 4, 2]\n",
            "[3, 7]\n"
          ]
        },
        {
          "output_type": "execute_result",
          "data": {
            "text/plain": [
              "[7, 4, 2]"
            ]
          },
          "metadata": {},
          "execution_count": 1
        }
      ],
      "source": [
        "# Define a list \n",
        "z = [3, 7, 4, 2]\n",
        "print(z) \n",
        "# Define a list\n",
        "heterogenousElements = [3, True, 'ZEI', 3.0]\n",
        "print(heterogenousElements)\n",
        "# Access the first item of a list at index 0 \n",
        "z [0]\n",
        "print(z)\n",
        "z[-1]\n",
        "print(z)\n",
        "print(z [0:2])\n",
        "z [:3]\n",
        "z [1:]"
      ]
    }
  ]
}